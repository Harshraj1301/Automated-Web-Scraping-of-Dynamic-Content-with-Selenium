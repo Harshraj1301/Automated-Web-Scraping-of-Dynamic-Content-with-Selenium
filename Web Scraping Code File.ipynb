{
 "cells": [
  {
   "cell_type": "markdown",
   "id": "a5f8cfd2",
   "metadata": {},
   "source": [
    "# MGMT 590: Web Data Analytics | Homework #5"
   ]
  },
  {
   "cell_type": "markdown",
   "id": "eb3fcb09",
   "metadata": {},
   "source": [
    "# Harshraj Vijaysinh Jadeja\n",
    "## PUID - 36545027"
   ]
  },
  {
   "cell_type": "code",
   "execution_count": 1,
   "id": "ad6f7bd3",
   "metadata": {},
   "outputs": [
    {
     "data": {
      "text/plain": [
       "'/Users/harsh/MOD_1/WDA/jadeja_harshraj_HW5'"
      ]
     },
     "execution_count": 1,
     "metadata": {},
     "output_type": "execute_result"
    }
   ],
   "source": [
    "pwd"
   ]
  },
  {
   "cell_type": "code",
   "execution_count": 2,
   "id": "bbbb378b",
   "metadata": {},
   "outputs": [
    {
     "name": "stdout",
     "output_type": "stream",
     "text": [
      "Requirement already satisfied: selenium in /Users/harsh/anaconda3/lib/python3.11/site-packages (4.12.0)\n",
      "Requirement already satisfied: urllib3[socks]<3,>=1.26 in /Users/harsh/anaconda3/lib/python3.11/site-packages (from selenium) (1.26.16)\n",
      "Requirement already satisfied: trio~=0.17 in /Users/harsh/anaconda3/lib/python3.11/site-packages (from selenium) (0.22.2)\n",
      "Requirement already satisfied: trio-websocket~=0.9 in /Users/harsh/anaconda3/lib/python3.11/site-packages (from selenium) (0.10.4)\n",
      "Requirement already satisfied: certifi>=2021.10.8 in /Users/harsh/anaconda3/lib/python3.11/site-packages (from selenium) (2023.7.22)\n",
      "Requirement already satisfied: attrs>=20.1.0 in /Users/harsh/anaconda3/lib/python3.11/site-packages (from trio~=0.17->selenium) (22.1.0)\n",
      "Requirement already satisfied: sortedcontainers in /Users/harsh/anaconda3/lib/python3.11/site-packages (from trio~=0.17->selenium) (2.4.0)\n",
      "Requirement already satisfied: idna in /Users/harsh/anaconda3/lib/python3.11/site-packages (from trio~=0.17->selenium) (3.4)\n",
      "Requirement already satisfied: outcome in /Users/harsh/anaconda3/lib/python3.11/site-packages (from trio~=0.17->selenium) (1.2.0)\n",
      "Requirement already satisfied: sniffio in /Users/harsh/anaconda3/lib/python3.11/site-packages (from trio~=0.17->selenium) (1.2.0)\n",
      "Requirement already satisfied: exceptiongroup in /Users/harsh/anaconda3/lib/python3.11/site-packages (from trio-websocket~=0.9->selenium) (1.1.3)\n",
      "Requirement already satisfied: wsproto>=0.14 in /Users/harsh/anaconda3/lib/python3.11/site-packages (from trio-websocket~=0.9->selenium) (1.2.0)\n",
      "Requirement already satisfied: PySocks!=1.5.7,<2.0,>=1.5.6 in /Users/harsh/anaconda3/lib/python3.11/site-packages (from urllib3[socks]<3,>=1.26->selenium) (1.7.1)\n",
      "Requirement already satisfied: h11<1,>=0.9.0 in /Users/harsh/anaconda3/lib/python3.11/site-packages (from wsproto>=0.14->trio-websocket~=0.9->selenium) (0.14.0)\n",
      "Note: you may need to restart the kernel to use updated packages.\n"
     ]
    }
   ],
   "source": [
    "pip install selenium"
   ]
  },
  {
   "cell_type": "code",
   "execution_count": 3,
   "id": "a23de998",
   "metadata": {},
   "outputs": [
    {
     "name": "stdout",
     "output_type": "stream",
     "text": [
      "Scrolling to the next page.\n",
      "Clicking the next page.\n",
      "Scrolling to the next page.\n",
      "Clicking the next page.\n",
      "Scrolling to the next page.\n",
      "Clicking the next page.\n",
      "Scrolling to the next page.\n",
      "Clicking the next page.\n",
      "Scrolling to the next page.\n",
      "Clicking the next page.\n",
      "Scrolling to the next page.\n",
      "Clicking the next page.\n",
      "Scrolling to the next page.\n",
      "Clicking the next page.\n",
      "Scrolling to the next page.\n",
      "Clicking the next page.\n",
      "Scrolling to the next page.\n",
      "Clicking the next page.\n",
      "Next page button not found. Exiting.\n",
      "Total run time: 10.438684225082397 seconds\n",
      "Quotes have been scraped and saved to quotes.csv.\n"
     ]
    }
   ],
   "source": [
    "import csv\n",
    "import time\n",
    "from selenium import webdriver\n",
    "from selenium.webdriver.common.by import By\n",
    "from selenium.webdriver.common.action_chains import ActionChains\n",
    "from selenium.webdriver.support.ui import WebDriverWait\n",
    "from selenium.webdriver.support import expected_conditions as EC\n",
    "\n",
    "# Recording the start time\n",
    "start_time = time.time()\n",
    "\n",
    "# Initializing Chrome WebDriver\n",
    "driver = webdriver.Chrome()\n",
    "\n",
    "# Opening the website\n",
    "driver.get(\"http://quotes.toscrape.com/js/\")\n",
    "\n",
    "# Initializing lists to store data\n",
    "quotes_data = []\n",
    "\n",
    "# Creating a WebDriverWait object with a timeout of 10 seconds\n",
    "wait = WebDriverWait(driver, 10)\n",
    "\n",
    "# Iterating through all pages\n",
    "while True:\n",
    "    # Finding all the quotes on the current page\n",
    "    quotes = driver.find_elements(By.CLASS_NAME, \"quote\")\n",
    "    \n",
    "    # Extracting data for each quote on the current page\n",
    "    for quote in quotes:\n",
    "        quote_text = quote.find_element(By.CLASS_NAME, \"text\").text\n",
    "        author = quote.find_element(By.CLASS_NAME, \"author\").text\n",
    "        tags = \"|\".join(tag.text for tag in quote.find_elements(By.CLASS_NAME, \"tag\"))\n",
    "        \n",
    "        # Appending data to the list\n",
    "        quotes_data.append([author, quote_text, tags])\n",
    "    \n",
    "    # Checking if there is a next page\n",
    "    try:\n",
    "        next_page = driver.find_element(By.XPATH, \"//li[@class='next']/a\")\n",
    "        if 'disabled' in next_page.get_attribute(\"class\"):\n",
    "            print(\"Reached the last page.\")\n",
    "            break\n",
    "    except:\n",
    "        print(\"Next page button not found. Exiting.\")\n",
    "        break\n",
    "    \n",
    "    # Scrolling to the next page element\n",
    "    print(\"Scrolling to the next page.\")\n",
    "    ActionChains(driver).move_to_element(next_page).perform()\n",
    "    \n",
    "    # Clicking the \"Next\" link\n",
    "    print(\"Clicking the next page.\")\n",
    "    next_page.click()\n",
    "\n",
    "# Closing the WebDriver\n",
    "driver.quit()\n",
    "\n",
    "# Recording the end time\n",
    "end_time = time.time()\n",
    "\n",
    "# Calculating the total run time\n",
    "total_run_time = end_time - start_time\n",
    "print(f\"Total run time: {total_run_time} seconds\")\n",
    "\n",
    "# Saving the data to a CSV file\n",
    "with open(\"quotes.csv\", \"w\", newline=\"\", encoding=\"utf-8\") as csv_file:\n",
    "    csv_writer = csv.writer(csv_file)\n",
    "    \n",
    "    # Writing header row\n",
    "    csv_writer.writerow([\"Author\", \"Quote\", \"Tags\"])\n",
    "    \n",
    "    # Writing quote data\n",
    "    csv_writer.writerows(quotes_data)\n",
    "\n",
    "print(\"Quotes have been scraped and saved to quotes.csv.\")\n"
   ]
  }
 ],
 "metadata": {
  "kernelspec": {
   "display_name": "Python 3 (ipykernel)",
   "language": "python",
   "name": "python3"
  },
  "language_info": {
   "codemirror_mode": {
    "name": "ipython",
    "version": 3
   },
   "file_extension": ".py",
   "mimetype": "text/x-python",
   "name": "python",
   "nbconvert_exporter": "python",
   "pygments_lexer": "ipython3",
   "version": "3.11.4"
  }
 },
 "nbformat": 4,
 "nbformat_minor": 5
}
